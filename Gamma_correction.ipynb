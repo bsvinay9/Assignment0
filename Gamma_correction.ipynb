{
  "nbformat": 4,
  "nbformat_minor": 0,
  "metadata": {
    "colab": {
      "provenance": [],
      "authorship_tag": "ABX9TyOS9sJ2ijL7p9x+cvi+Xlia",
      "include_colab_link": true
    },
    "kernelspec": {
      "name": "python3",
      "display_name": "Python 3"
    },
    "language_info": {
      "name": "python"
    }
  },
  "cells": [
    {
      "cell_type": "markdown",
      "metadata": {
        "id": "view-in-github",
        "colab_type": "text"
      },
      "source": [
        "<a href=\"https://colab.research.google.com/github/bsvinay9/Assignment0/blob/main/Gamma_correction.ipynb\" target=\"_parent\"><img src=\"https://colab.research.google.com/assets/colab-badge.svg\" alt=\"Open In Colab\"/></a>"
      ]
    },
    {
      "cell_type": "code",
      "source": [
        "# @title Default title text\n",
        "import cv2\n",
        "import numpy as np\n",
        "import matplotlib.pyplot as plt\n",
        "\n",
        "def gamma_correction(image, gamma):\n",
        "    inv_gamma = 1.0 / gamma\n",
        "    table = np.array([(i / 255.0) ** inv_gamma * 255 for i in np.arange(0, 256)]).astype(\"uint8\")\n",
        "    return cv2.LUT(image, table)\n",
        "from google.colab.patches import cv2_imshow"
      ],
      "metadata": {
        "id": "WeYxGeaA0jQv"
      },
      "execution_count": null,
      "outputs": []
    },
    {
      "cell_type": "code",
      "source": [
        "def histogram_equalization(image):\n",
        "    if len(image.shape) == 2:\n",
        "        return cv2.equalizeHist(image)\n",
        "    elif len(image.shape) == 3:\n",
        "        ycrcb = cv2.cvtColor(image, cv2.COLOR_BGR2YCrCb)\n",
        "        ycrcb[:, :, 0] = cv2.equalizeHist(ycrcb[:, :, 0])\n",
        "        return cv2.cvtColor(ycrcb, cv2.COLOR_YCrCb2BGR)\n"
      ],
      "metadata": {
        "id": "5iK2PhFN1KJ8"
      },
      "execution_count": null,
      "outputs": []
    },
    {
      "cell_type": "code",
      "source": [
        "def reduce_bit_depth(image, bit_depth):\n",
        "    levels = 2 ** bit_depth\n",
        "    factor = 256 // levels\n",
        "    return (image // factor) * factor\n",
        "\n",
        "def reduce_spatial_resolution(image):\n",
        "    h, w = image.shape[:2]\n",
        "    resized = cv2.resize(image, (w // 2, h // 2), interpolation=cv2.INTER_AREA)\n",
        "    return resized\n",
        "\n",
        "def apply_lowpass_filter(image, kernel_size):\n",
        "    return cv2.GaussianBlur(image, (kernel_size, kernel_size), 0)\n",
        "\n"
      ],
      "metadata": {
        "id": "mZptHL157L2C"
      },
      "execution_count": null,
      "outputs": []
    },
    {
      "cell_type": "code",
      "source": [
        "def lowpass_frequency_filter(image):\n",
        "    gray = cv2.cvtColor(image, cv2.COLOR_BGR2GRAY)\n",
        "    dft = np.fft.fft2(gray)\n",
        "    dft_shift = np.fft.fftshift(dft)\n",
        "    rows, cols = gray.shape\n",
        "    mask = np.zeros((rows, cols), np.uint8)\n",
        "    center_x, center_y = cols // 2, rows // 2\n",
        "    mask[center_y - 30:center_y + 30, center_x - 30:center_x + 30] = 1\n",
        "    dft_shift_filtered = dft_shift * mask\n",
        "    dft_filtered = np.fft.ifftshift(dft_shift_filtered)\n",
        "    img_filtered = np.fft.ifft2(dft_filtered)\n",
        "    return np.abs(img_filtered)\n",
        "\n"
      ],
      "metadata": {
        "id": "cP9zzHeT7Zhn"
      },
      "execution_count": null,
      "outputs": []
    },
    {
      "cell_type": "code",
      "source": [
        "import cv2\n",
        "import numpy as np\n",
        "import matplotlib.pyplot as plt\n",
        "\n",
        "def gamma_correction(image, gamma):\n",
        "    inv_gamma = 1.0 / gamma\n",
        "    table = np.array([(i / 255.0) ** inv_gamma * 255 for i in range(256)]).astype(\"uint8\")\n",
        "    return cv2.LUT(image, table)\n",
        "\n",
        "def histogram_equalization(image):\n",
        "    if len(image.shape) == 2:\n",
        "        return cv2.equalizeHist(image)\n",
        "    ycrcb = cv2.cvtColor(image, cv2.COLOR_BGR2YCrCb)\n",
        "    ycrcb[:, :, 0] = cv2.equalizeHist(ycrcb[:, :, 0])\n",
        "    return cv2.cvtColor(ycrcb, cv2.COLOR_YCrCb2BGR)\n",
        "\n",
        "def reduce_bit_depth(image, bit_depth):\n",
        "    shift = 8 - bit_depth\n",
        "    return (image >> shift) << shift  # More accurate bit truncation\n",
        "\n",
        "def reduce_spatial_resolution(image):\n",
        "    h, w = image.shape[:2]\n",
        "    return cv2.resize(image, (w//2, h//2), interpolation=cv2.INTER_AREA)\n",
        "\n",
        "def apply_lowpass_filter(image, kernel_size):\n",
        "    return cv2.GaussianBlur(image, (kernel_size, kernel_size), 0)\n",
        "\n",
        "def lowpass_frequency_filter(image, cutoff_ratio=0.1):\n",
        "    gray = cv2.cvtColor(image, cv2.COLOR_BGR2GRAY)\n",
        "    rows, cols = gray.shape\n",
        "    crow, ccol = rows//2, cols//2\n",
        "\n",
        "    # Create circular mask\n",
        "    cutoff = int(min(rows, cols) * cutoff_ratio)\n",
        "    mask = np.zeros((rows, cols), np.uint8)\n",
        "    cv2.circle(mask, (ccol, crow), cutoff, 1, -1)\n",
        "\n",
        "    # Frequency domain operations\n",
        "    dft = np.fft.fft2(gray)\n",
        "    dft_shift = np.fft.fftshift(dft)\n",
        "    filtered = dft_shift * mask\n",
        "    img_back = np.abs(np.fft.ifft2(np.fft.ifftshift(filtered)))\n",
        "\n",
        "    # Normalize to 0-255\n",
        "    return cv2.normalize(img_back, None, 0, 255, cv2.NORM_MINMAX).astype(np.uint8)\n",
        "\n",
        "# Load image with error checking\n",
        "image_path = '/mnt/data/image.png'\n",
        "image = cv2.imread(image_path)\n",
        "if image is None:\n",
        "    raise FileNotFoundError(f\"Image not found at {image_path}\")\n",
        "\n",
        "# Process all operations\n",
        "results = {\n",
        "    'Gamma Correction': gamma_correction(image, 2.2),\n",
        "    'Histogram Equalization': histogram_equalization(image),\n",
        "    '6-bit': reduce_bit_depth(image, 6),\n",
        "    '4-bit': reduce_bit_depth(image, 4),\n",
        "    '2-bit': reduce_bit_depth(image, 2),\n",
        "    '1-bit': reduce_bit_depth(image, 1),\n",
        "    'Half Resolution': reduce_spatial_resolution(image),\n",
        "    '3x3 Filter': apply_lowpass_filter(image, 3),\n",
        "    '5x5 Filter': apply_lowpass_filter(image, 5),\n",
        "    '7x7 Filter': apply_lowpass_filter(image, 7),\n",
        "    'Frequency Filter': lowpass_frequency_filter(image, 0.1)\n",
        "}\n",
        "\n",
        "# Display results\n",
        "titles = list(results.keys())\n",
        "images = [cv2.cvtColor(img, cv2.COLOR_BGR2RGB) if len(img.shape)==3 else img\n",
        "          for img in results.values()]\n",
        "\n",
        "plt.figure(figsize=(18, 12))\n",
        "for i, (title, img) in enumerate(zip(titles, images)):\n",
        "    plt.subplot(4, 3, i+1)\n",
        "    plt.imshow(img, cmap='gray' if title=='Frequency Filter' else None)\n",
        "    plt.title(title)\n",
        "    plt.axis('off')\n",
        "\n",
        "plt.tight_layout()\n",
        "plt.show()"
      ],
      "metadata": {
        "colab": {
          "base_uri": "https://localhost:8080/",
          "height": 219
        },
        "id": "VajNsPyRAQKM",
        "outputId": "0b8d02b4-e86a-4201-e702-fa5737ca0b68"
      },
      "execution_count": 61,
      "outputs": [
        {
          "output_type": "error",
          "ename": "FileNotFoundError",
          "evalue": "Image not found at /mnt/data/image.png",
          "traceback": [
            "\u001b[0;31m---------------------------------------------------------------------------\u001b[0m",
            "\u001b[0;31mFileNotFoundError\u001b[0m                         Traceback (most recent call last)",
            "\u001b[0;32m<ipython-input-61-fd287b7f6ea6>\u001b[0m in \u001b[0;36m<cell line: 0>\u001b[0;34m()\u001b[0m\n\u001b[1;32m     49\u001b[0m \u001b[0mimage\u001b[0m \u001b[0;34m=\u001b[0m \u001b[0mcv2\u001b[0m\u001b[0;34m.\u001b[0m\u001b[0mimread\u001b[0m\u001b[0;34m(\u001b[0m\u001b[0mimage_path\u001b[0m\u001b[0;34m)\u001b[0m\u001b[0;34m\u001b[0m\u001b[0;34m\u001b[0m\u001b[0m\n\u001b[1;32m     50\u001b[0m \u001b[0;32mif\u001b[0m \u001b[0mimage\u001b[0m \u001b[0;32mis\u001b[0m \u001b[0;32mNone\u001b[0m\u001b[0;34m:\u001b[0m\u001b[0;34m\u001b[0m\u001b[0;34m\u001b[0m\u001b[0m\n\u001b[0;32m---> 51\u001b[0;31m     \u001b[0;32mraise\u001b[0m \u001b[0mFileNotFoundError\u001b[0m\u001b[0;34m(\u001b[0m\u001b[0;34mf\"Image not found at {image_path}\"\u001b[0m\u001b[0;34m)\u001b[0m\u001b[0;34m\u001b[0m\u001b[0;34m\u001b[0m\u001b[0m\n\u001b[0m\u001b[1;32m     52\u001b[0m \u001b[0;34m\u001b[0m\u001b[0m\n\u001b[1;32m     53\u001b[0m \u001b[0;31m# Process all operations\u001b[0m\u001b[0;34m\u001b[0m\u001b[0;34m\u001b[0m\u001b[0m\n",
            "\u001b[0;31mFileNotFoundError\u001b[0m: Image not found at /mnt/data/image.png"
          ]
        }
      ]
    }
  ]
}